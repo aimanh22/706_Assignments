{
  "nbformat": 4,
  "nbformat_minor": 0,
  "metadata": {
    "colab": {
      "name": "GPU_Example_Movie_Review.ipynb",
      "provenance": [],
      "authorship_tag": "ABX9TyNo6RTEaVWd3F16FVP+WsQg",
      "include_colab_link": true
    },
    "kernelspec": {
      "name": "python3",
      "display_name": "Python 3"
    },
    "accelerator": "GPU"
  },
  "cells": [
    {
      "cell_type": "markdown",
      "metadata": {
        "id": "view-in-github",
        "colab_type": "text"
      },
      "source": [
        "<a href=\"https://colab.research.google.com/github/aimanh22/706_project/blob/main/GPU_Example_Movie_Review.ipynb\" target=\"_parent\"><img src=\"https://colab.research.google.com/assets/colab-badge.svg\" alt=\"Open In Colab\"/></a>"
      ]
    },
    {
      "cell_type": "markdown",
      "metadata": {
        "id": "Jmtu7djhukVm"
      },
      "source": [
        "Setup"
      ]
    },
    {
      "cell_type": "code",
      "metadata": {
        "id": "WRjU68jDjOM_",
        "cellView": "form",
        "outputId": "d38a1c05-fd98-48db-b492-fad8d22566e3",
        "colab": {
          "base_uri": "https://localhost:8080/",
          "height": 493
        }
      },
      "source": [
        "#@title Install\n",
        "!pip install numba\n",
        "!find / -iname 'libdevice'\n",
        "!find / -iname 'libnvvm.so'\n",
        "!nvidia-smi"
      ],
      "execution_count": 2,
      "outputs": [
        {
          "output_type": "stream",
          "text": [
            "Requirement already satisfied: numba in /usr/local/lib/python3.6/dist-packages (0.48.0)\n",
            "Requirement already satisfied: llvmlite<0.32.0,>=0.31.0dev0 in /usr/local/lib/python3.6/dist-packages (from numba) (0.31.0)\n",
            "Requirement already satisfied: setuptools in /usr/local/lib/python3.6/dist-packages (from numba) (50.3.0)\n",
            "Requirement already satisfied: numpy>=1.15 in /usr/local/lib/python3.6/dist-packages (from numba) (1.18.5)\n",
            "/usr/local/cuda-10.1/nvvm/libdevice\n",
            "/usr/local/cuda-10.0/nvvm/libdevice\n",
            "/usr/local/cuda-10.1/nvvm/lib64/libnvvm.so\n",
            "/usr/local/cuda-10.0/nvvm/lib64/libnvvm.so\n",
            "Sat Oct 24 04:34:01 2020       \n",
            "+-----------------------------------------------------------------------------+\n",
            "| NVIDIA-SMI 455.23.05    Driver Version: 418.67       CUDA Version: 10.1     |\n",
            "|-------------------------------+----------------------+----------------------+\n",
            "| GPU  Name        Persistence-M| Bus-Id        Disp.A | Volatile Uncorr. ECC |\n",
            "| Fan  Temp  Perf  Pwr:Usage/Cap|         Memory-Usage | GPU-Util  Compute M. |\n",
            "|                               |                      |               MIG M. |\n",
            "|===============================+======================+======================|\n",
            "|   0  Tesla T4            Off  | 00000000:00:04.0 Off |                    0 |\n",
            "| N/A   54C    P0    28W /  70W |    111MiB / 15079MiB |      0%      Default |\n",
            "|                               |                      |                 ERR! |\n",
            "+-------------------------------+----------------------+----------------------+\n",
            "                                                                               \n",
            "+-----------------------------------------------------------------------------+\n",
            "| Processes:                                                                  |\n",
            "|  GPU   GI   CI        PID   Type   Process name                  GPU Memory |\n",
            "|        ID   ID                                                   Usage      |\n",
            "|=============================================================================|\n",
            "|  No running processes found                                                 |\n",
            "+-----------------------------------------------------------------------------+\n"
          ],
          "name": "stdout"
        }
      ]
    },
    {
      "cell_type": "markdown",
      "metadata": {
        "id": "7lyTDvaMln-2"
      },
      "source": [
        "Headers"
      ]
    },
    {
      "cell_type": "code",
      "metadata": {
        "id": "93Z5LTmPkYsU"
      },
      "source": [
        "%matplotlib inline\n",
        "from matplotlib import pyplot as plt\n",
        "import numpy as np\n",
        "import math\n",
        "from numba import jit, njit, vectorize, cuda, uint32, f8, uint8, float32,float64\n",
        "from pylab import imshow, show\n",
        "from timeit import default_timer as timer\n",
        "import nltk\n",
        "import pandas as pd\n",
        "from nltk.corpus import stopwords"
      ],
      "execution_count": 3,
      "outputs": []
    },
    {
      "cell_type": "code",
      "metadata": {
        "id": "GJsgKe0XseRO",
        "outputId": "6bde33dd-d761-4480-eb44-19d3c36dd40a",
        "colab": {
          "base_uri": "https://localhost:8080/",
          "height": 34
        }
      },
      "source": [
        "print(cuda.gpus)"
      ],
      "execution_count": 4,
      "outputs": [
        {
          "output_type": "stream",
          "text": [
            "<Managed Device 0>\n"
          ],
          "name": "stdout"
        }
      ]
    },
    {
      "cell_type": "code",
      "metadata": {
        "id": "i2IJitoQkk5W",
        "outputId": "956ea86e-830a-4ee7-e46f-79339f41608e",
        "colab": {
          "base_uri": "https://localhost:8080/",
          "height": 136
        }
      },
      "source": [
        "nltk.download('movie_reviews')\n",
        "nltk.download('punkt')\n",
        "nltk.download('stopwords')"
      ],
      "execution_count": 5,
      "outputs": [
        {
          "output_type": "stream",
          "text": [
            "[nltk_data] Downloading package movie_reviews to /root/nltk_data...\n",
            "[nltk_data]   Unzipping corpora/movie_reviews.zip.\n",
            "[nltk_data] Downloading package punkt to /root/nltk_data...\n",
            "[nltk_data]   Unzipping tokenizers/punkt.zip.\n",
            "[nltk_data] Downloading package stopwords to /root/nltk_data...\n",
            "[nltk_data]   Unzipping corpora/stopwords.zip.\n"
          ],
          "name": "stdout"
        },
        {
          "output_type": "execute_result",
          "data": {
            "text/plain": [
              "True"
            ]
          },
          "metadata": {
            "tags": []
          },
          "execution_count": 5
        }
      ]
    },
    {
      "cell_type": "code",
      "metadata": {
        "id": "fAYr3P_RI0_T"
      },
      "source": [
        "tokenizer = nltk.data.load('tokenizers/punkt/english.pickle')\n",
        "\n",
        "porter    = nltk.PorterStemmer()"
      ],
      "execution_count": 6,
      "outputs": []
    },
    {
      "cell_type": "markdown",
      "metadata": {
        "id": "sK4NjMpItCoU"
      },
      "source": [
        ""
      ]
    },
    {
      "cell_type": "markdown",
      "metadata": {
        "id": "XqPZQS5AlseZ"
      },
      "source": [
        "Files"
      ]
    },
    {
      "cell_type": "code",
      "metadata": {
        "id": "sWvHjdw7kz25"
      },
      "source": [
        "import glob\n",
        "\n",
        "# read in reviews from the NLTK corpora directory\n",
        "datadir = '/root/nltk_data/corpora/movie_reviews'\n",
        "neg     = datadir + '/neg/'\n",
        "pos     = datadir + '/pos/'\n",
        "\n",
        "posarr  = []\n",
        "negarr  = []\n",
        "\n",
        "pfiles = [f for f in glob.glob(pos + \"*.txt\", recursive=False)]\n",
        "nfiles = [f for f in glob.glob(neg + \"*.txt\", recursive=False)]\n",
        "for f in pfiles:\n",
        "    with open(f) as my_file:\n",
        "        posarr.append(my_file.read().replace('\\n',''))\n",
        "for f in nfiles:\n",
        "    with open(f) as my_file:\n",
        "        negarr.append(my_file.read().replace('\\n',''))"
      ],
      "execution_count": 7,
      "outputs": []
    },
    {
      "cell_type": "code",
      "metadata": {
        "id": "mZRzhkDvHZRV"
      },
      "source": [
        "from nltk.corpus import stopwords\n",
        "stop_words = set(stopwords.words('english'))\n",
        "document_list=posarr+negarr\n",
        "for i in range(len(document_list)):\n",
        "    #Converting the words into lower case\n",
        "    document_list[i]=[w.lower() for w in document_list[i]]\n",
        "    #Removing the stopwords\n",
        "    document_list[i]=[w for w in document_list[i] if not str(w) in stop_words]\n",
        "    #Retain only alphabet and remove everything else- punctuation and numbers\n",
        "    document_list[i]=[w for w in document_list[i] if w.isalpha()]\n",
        "    pass\n",
        "vocab = set()\n",
        "document_list=[[porter.stem(w) for w in word_list] for word_list in document_list]\n",
        "#List conatining the number of words in each document \n",
        "sizearr={ind:len(list(set(document_list[ind]))) for ind in range(len(document_list))}\n",
        "#Setting Vocabulary as all unique words in the list\n",
        "vocab=set(sum(document_list,[]))\n",
        "# your code for creating the dataframe goes here.\n",
        "# the resulting dataframe should be called \"df\"\n",
        "#\n",
        "# Each row of the dataframe should represent a document (inaugural address)\n",
        "# Each column of the dataframe should be a term from the vocab\n",
        "\n",
        "df = pd.DataFrame()\n",
        "for doc in document_list: #For each document\n",
        "        dict_word_count_document=dict() #create an empty dict\n",
        "        for word in vocab:\n",
        "            dict_word_count_document[word]=doc.count(word) #update dict with word: count(word)\n",
        "            pass\n",
        "        df=df.append(dict_word_count_document,ignore_index=True) #update dataframe\n",
        "        pass\n"
      ],
      "execution_count": 8,
      "outputs": []
    },
    {
      "cell_type": "code",
      "metadata": {
        "id": "rIXyALNBIe06"
      },
      "source": [
        "def computetf(wordvec,doclen):\n",
        "    tf=dict() #create an empty dict\n",
        "    for word in wordvec.index:\n",
        "        tf[word]=wordvec[word]/doclen #append termfreq of word (in the document) in the dict\n",
        "        pass\n",
        "    return tf\n",
        "def computeidf(df):\n",
        "    idf=dict() #create empty dict\n",
        "    for word in vocab:\n",
        "        number_of_docs_with_word=len(df[df[word]>0])\n",
        "        total_number_of_docs=len(df)\n",
        "        idf[word]=math.log(total_number_of_docs/number_of_docs_with_word)#append inversetermfreq of the docs\n",
        "        pass\n",
        "    return idf        "
      ],
      "execution_count": 9,
      "outputs": []
    },
    {
      "cell_type": "code",
      "metadata": {
        "id": "vBNgivDMP2qg"
      },
      "source": [
        "newdf = pd.DataFrame()\n",
        "\n",
        "idfdict = computeidf(df)\n",
        "\n",
        "cols = df.columns\n",
        "for index, row in df.iterrows():\n",
        "    newrow = computetf(row,sizearr[index])\n",
        "    for c in cols:\n",
        "        newrow[c] = newrow[c]*idfdict[c]\n",
        "    newdf = newdf.append(newrow,ignore_index=True)"
      ],
      "execution_count": 10,
      "outputs": []
    },
    {
      "cell_type": "code",
      "metadata": {
        "id": "JJhp9d4X0n0m",
        "outputId": "8554648c-309a-401a-bdb0-e72b97ad9cb2",
        "colab": {
          "base_uri": "https://localhost:8080/",
          "height": 419
        }
      },
      "source": [
        "newdf"
      ],
      "execution_count": 11,
      "outputs": [
        {
          "output_type": "execute_result",
          "data": {
            "text/html": [
              "<div>\n",
              "<style scoped>\n",
              "    .dataframe tbody tr th:only-of-type {\n",
              "        vertical-align: middle;\n",
              "    }\n",
              "\n",
              "    .dataframe tbody tr th {\n",
              "        vertical-align: top;\n",
              "    }\n",
              "\n",
              "    .dataframe thead th {\n",
              "        text-align: right;\n",
              "    }\n",
              "</style>\n",
              "<table border=\"1\" class=\"dataframe\">\n",
              "  <thead>\n",
              "    <tr style=\"text-align: right;\">\n",
              "      <th></th>\n",
              "      <th>b</th>\n",
              "      <th>c</th>\n",
              "      <th>e</th>\n",
              "      <th>f</th>\n",
              "      <th>g</th>\n",
              "      <th>h</th>\n",
              "      <th>j</th>\n",
              "      <th>k</th>\n",
              "      <th>l</th>\n",
              "      <th>n</th>\n",
              "      <th>p</th>\n",
              "      <th>q</th>\n",
              "      <th>r</th>\n",
              "      <th>u</th>\n",
              "      <th>v</th>\n",
              "      <th>w</th>\n",
              "      <th>x</th>\n",
              "      <th>z</th>\n",
              "    </tr>\n",
              "  </thead>\n",
              "  <tbody>\n",
              "    <tr>\n",
              "      <th>0</th>\n",
              "      <td>0.001111</td>\n",
              "      <td>0.002001</td>\n",
              "      <td>0.0</td>\n",
              "      <td>0.0</td>\n",
              "      <td>0.0</td>\n",
              "      <td>0.0</td>\n",
              "      <td>0.007833</td>\n",
              "      <td>0.000834</td>\n",
              "      <td>0.0</td>\n",
              "      <td>0.0</td>\n",
              "      <td>0.001473</td>\n",
              "      <td>0.016564</td>\n",
              "      <td>0.0</td>\n",
              "      <td>0.0</td>\n",
              "      <td>0.000639</td>\n",
              "      <td>0.0</td>\n",
              "      <td>0.003614</td>\n",
              "      <td>0.031055</td>\n",
              "    </tr>\n",
              "    <tr>\n",
              "      <th>1</th>\n",
              "      <td>0.000971</td>\n",
              "      <td>0.001236</td>\n",
              "      <td>0.0</td>\n",
              "      <td>0.0</td>\n",
              "      <td>0.0</td>\n",
              "      <td>0.0</td>\n",
              "      <td>0.005805</td>\n",
              "      <td>0.000382</td>\n",
              "      <td>0.0</td>\n",
              "      <td>0.0</td>\n",
              "      <td>0.000883</td>\n",
              "      <td>0.000000</td>\n",
              "      <td>0.0</td>\n",
              "      <td>0.0</td>\n",
              "      <td>0.000324</td>\n",
              "      <td>0.0</td>\n",
              "      <td>0.003826</td>\n",
              "      <td>0.010961</td>\n",
              "    </tr>\n",
              "    <tr>\n",
              "      <th>2</th>\n",
              "      <td>0.000765</td>\n",
              "      <td>0.001971</td>\n",
              "      <td>0.0</td>\n",
              "      <td>0.0</td>\n",
              "      <td>0.0</td>\n",
              "      <td>0.0</td>\n",
              "      <td>0.001659</td>\n",
              "      <td>0.000647</td>\n",
              "      <td>0.0</td>\n",
              "      <td>0.0</td>\n",
              "      <td>0.001324</td>\n",
              "      <td>0.008769</td>\n",
              "      <td>0.0</td>\n",
              "      <td>0.0</td>\n",
              "      <td>0.000706</td>\n",
              "      <td>0.0</td>\n",
              "      <td>0.009566</td>\n",
              "      <td>0.000000</td>\n",
              "    </tr>\n",
              "    <tr>\n",
              "      <th>3</th>\n",
              "      <td>0.001250</td>\n",
              "      <td>0.003779</td>\n",
              "      <td>0.0</td>\n",
              "      <td>0.0</td>\n",
              "      <td>0.0</td>\n",
              "      <td>0.0</td>\n",
              "      <td>0.010966</td>\n",
              "      <td>0.000750</td>\n",
              "      <td>0.0</td>\n",
              "      <td>0.0</td>\n",
              "      <td>0.002501</td>\n",
              "      <td>0.016564</td>\n",
              "      <td>0.0</td>\n",
              "      <td>0.0</td>\n",
              "      <td>0.001139</td>\n",
              "      <td>0.0</td>\n",
              "      <td>0.016262</td>\n",
              "      <td>0.020703</td>\n",
              "    </tr>\n",
              "    <tr>\n",
              "      <th>4</th>\n",
              "      <td>0.001056</td>\n",
              "      <td>0.002751</td>\n",
              "      <td>0.0</td>\n",
              "      <td>0.0</td>\n",
              "      <td>0.0</td>\n",
              "      <td>0.0</td>\n",
              "      <td>0.005483</td>\n",
              "      <td>0.000500</td>\n",
              "      <td>0.0</td>\n",
              "      <td>0.0</td>\n",
              "      <td>0.001834</td>\n",
              "      <td>0.024847</td>\n",
              "      <td>0.0</td>\n",
              "      <td>0.0</td>\n",
              "      <td>0.001223</td>\n",
              "      <td>0.0</td>\n",
              "      <td>0.012648</td>\n",
              "      <td>0.041407</td>\n",
              "    </tr>\n",
              "    <tr>\n",
              "      <th>...</th>\n",
              "      <td>...</td>\n",
              "      <td>...</td>\n",
              "      <td>...</td>\n",
              "      <td>...</td>\n",
              "      <td>...</td>\n",
              "      <td>...</td>\n",
              "      <td>...</td>\n",
              "      <td>...</td>\n",
              "      <td>...</td>\n",
              "      <td>...</td>\n",
              "      <td>...</td>\n",
              "      <td>...</td>\n",
              "      <td>...</td>\n",
              "      <td>...</td>\n",
              "      <td>...</td>\n",
              "      <td>...</td>\n",
              "      <td>...</td>\n",
              "      <td>...</td>\n",
              "    </tr>\n",
              "    <tr>\n",
              "      <th>1995</th>\n",
              "      <td>0.000677</td>\n",
              "      <td>0.001147</td>\n",
              "      <td>0.0</td>\n",
              "      <td>0.0</td>\n",
              "      <td>0.0</td>\n",
              "      <td>0.0</td>\n",
              "      <td>0.002488</td>\n",
              "      <td>0.000382</td>\n",
              "      <td>0.0</td>\n",
              "      <td>0.0</td>\n",
              "      <td>0.000883</td>\n",
              "      <td>0.000000</td>\n",
              "      <td>0.0</td>\n",
              "      <td>0.0</td>\n",
              "      <td>0.000530</td>\n",
              "      <td>0.0</td>\n",
              "      <td>0.003826</td>\n",
              "      <td>0.065763</td>\n",
              "    </tr>\n",
              "    <tr>\n",
              "      <th>1996</th>\n",
              "      <td>0.000706</td>\n",
              "      <td>0.001265</td>\n",
              "      <td>0.0</td>\n",
              "      <td>0.0</td>\n",
              "      <td>0.0</td>\n",
              "      <td>0.0</td>\n",
              "      <td>0.000829</td>\n",
              "      <td>0.000412</td>\n",
              "      <td>0.0</td>\n",
              "      <td>0.0</td>\n",
              "      <td>0.000853</td>\n",
              "      <td>0.008769</td>\n",
              "      <td>0.0</td>\n",
              "      <td>0.0</td>\n",
              "      <td>0.000588</td>\n",
              "      <td>0.0</td>\n",
              "      <td>0.000000</td>\n",
              "      <td>0.021921</td>\n",
              "    </tr>\n",
              "    <tr>\n",
              "      <th>1997</th>\n",
              "      <td>0.000618</td>\n",
              "      <td>0.002118</td>\n",
              "      <td>0.0</td>\n",
              "      <td>0.0</td>\n",
              "      <td>0.0</td>\n",
              "      <td>0.0</td>\n",
              "      <td>0.002488</td>\n",
              "      <td>0.000324</td>\n",
              "      <td>0.0</td>\n",
              "      <td>0.0</td>\n",
              "      <td>0.001089</td>\n",
              "      <td>0.000000</td>\n",
              "      <td>0.0</td>\n",
              "      <td>0.0</td>\n",
              "      <td>0.000530</td>\n",
              "      <td>0.0</td>\n",
              "      <td>0.005739</td>\n",
              "      <td>0.021921</td>\n",
              "    </tr>\n",
              "    <tr>\n",
              "      <th>1998</th>\n",
              "      <td>0.001612</td>\n",
              "      <td>0.003140</td>\n",
              "      <td>0.0</td>\n",
              "      <td>0.0</td>\n",
              "      <td>0.0</td>\n",
              "      <td>0.0</td>\n",
              "      <td>0.006266</td>\n",
              "      <td>0.000778</td>\n",
              "      <td>0.0</td>\n",
              "      <td>0.0</td>\n",
              "      <td>0.002139</td>\n",
              "      <td>0.016564</td>\n",
              "      <td>0.0</td>\n",
              "      <td>0.0</td>\n",
              "      <td>0.001306</td>\n",
              "      <td>0.0</td>\n",
              "      <td>0.009034</td>\n",
              "      <td>0.010352</td>\n",
              "    </tr>\n",
              "    <tr>\n",
              "      <th>1999</th>\n",
              "      <td>0.000559</td>\n",
              "      <td>0.001265</td>\n",
              "      <td>0.0</td>\n",
              "      <td>0.0</td>\n",
              "      <td>0.0</td>\n",
              "      <td>0.0</td>\n",
              "      <td>0.004147</td>\n",
              "      <td>0.000294</td>\n",
              "      <td>0.0</td>\n",
              "      <td>0.0</td>\n",
              "      <td>0.000824</td>\n",
              "      <td>0.000000</td>\n",
              "      <td>0.0</td>\n",
              "      <td>0.0</td>\n",
              "      <td>0.000530</td>\n",
              "      <td>0.0</td>\n",
              "      <td>0.005739</td>\n",
              "      <td>0.021921</td>\n",
              "    </tr>\n",
              "  </tbody>\n",
              "</table>\n",
              "<p>2000 rows × 18 columns</p>\n",
              "</div>"
            ],
            "text/plain": [
              "             b         c    e    f    g  ...    u         v    w         x         z\n",
              "0     0.001111  0.002001  0.0  0.0  0.0  ...  0.0  0.000639  0.0  0.003614  0.031055\n",
              "1     0.000971  0.001236  0.0  0.0  0.0  ...  0.0  0.000324  0.0  0.003826  0.010961\n",
              "2     0.000765  0.001971  0.0  0.0  0.0  ...  0.0  0.000706  0.0  0.009566  0.000000\n",
              "3     0.001250  0.003779  0.0  0.0  0.0  ...  0.0  0.001139  0.0  0.016262  0.020703\n",
              "4     0.001056  0.002751  0.0  0.0  0.0  ...  0.0  0.001223  0.0  0.012648  0.041407\n",
              "...        ...       ...  ...  ...  ...  ...  ...       ...  ...       ...       ...\n",
              "1995  0.000677  0.001147  0.0  0.0  0.0  ...  0.0  0.000530  0.0  0.003826  0.065763\n",
              "1996  0.000706  0.001265  0.0  0.0  0.0  ...  0.0  0.000588  0.0  0.000000  0.021921\n",
              "1997  0.000618  0.002118  0.0  0.0  0.0  ...  0.0  0.000530  0.0  0.005739  0.021921\n",
              "1998  0.001612  0.003140  0.0  0.0  0.0  ...  0.0  0.001306  0.0  0.009034  0.010352\n",
              "1999  0.000559  0.001265  0.0  0.0  0.0  ...  0.0  0.000530  0.0  0.005739  0.021921\n",
              "\n",
              "[2000 rows x 18 columns]"
            ]
          },
          "metadata": {
            "tags": []
          },
          "execution_count": 11
        }
      ]
    },
    {
      "cell_type": "code",
      "metadata": {
        "id": "bOg3WfowrTNo",
        "outputId": "e7643925-3810-4666-ef72-6abc7a24ce60",
        "colab": {
          "base_uri": "https://localhost:8080/",
          "height": 527
        }
      },
      "source": [
        "from numba import (cuda, vectorize,guvectorize)\n",
        "import pandas as pd\n",
        "import numpy as np\n",
        "from sklearn.preprocessing import MinMaxScaler\n",
        "from sklearn.cluster import KMeans\n",
        "\n",
        "from functools import wraps\n",
        "from time import time\n",
        "\n",
        "def doc_array():\n",
        "    rea = newdf.to_numpy()\n",
        "    return np.float32(rea)\n",
        "\n",
        "\n",
        "@vectorize(['float32(float32, float32)'], target='cuda')\n",
        "def mul_ufunc(x, y):\n",
        "    return x*y\n",
        "\n",
        "@guvectorize(['(float32[:],float64)'],'(n)->()', target='cuda')\n",
        "def add_ufunc(x,res):\n",
        "    i=0\n",
        "    for a in x:\n",
        "      i=i+a\n",
        "    res=i\n",
        "\n",
        "@guvectorize(['(float32[:],float64)'],'(n)->()', target='cuda')\n",
        "def cal_ufunc(x,res):\n",
        "    i=0\n",
        "    for a in x:\n",
        "      i=i+a*a\n",
        "    res=i\n",
        "\n",
        "@vectorize(['float64(float64, float64,float64)'], target='cuda')\n",
        "def dist_ufunc(d, x, y):\n",
        "    if x!=0 and y!=0:\n",
        "      return d/x*y\n",
        "    else:\n",
        "      return 0\n",
        "\n",
        "\n",
        "def cuda_operation():\n",
        "    \"\"\"Performs Vectorized Operations on GPU\"\"\"\n",
        "    x=doc_array()\n",
        "    y=doc_array()\n",
        "    \n",
        "    print(\"Moving calculations to GPU memory\")\n",
        "    x_device = cuda.to_device(x)\n",
        "    y_device = cuda.to_device(y)\n",
        "    out_device = cuda.device_array(\n",
        "        shape=(x_device.shape[0],x_device.shape[1]), dtype=np.float32)\n",
        "    print(x_device)\n",
        "    print(x_device.shape)\n",
        "    print(x_device.dtype)\n",
        "\n",
        "    print(\"Calculating on GPU\")\n",
        "    mul_ufunc(x_device,y_device, out=out_device)\n",
        "    out_host = out_device.copy_to_host()\n",
        "    mul_val=out_host\n",
        "    print(mul_val)\n",
        "    \n",
        "    mul_device=cuda.to_device(mul_val)\n",
        "    out_device2 = cuda.device_array(\n",
        "        shape=(mul_device.shape[0],), dtype=np.float64)\n",
        "    print(mul_device)\n",
        "    print(mul_device.shape)\n",
        "    print(mul_device.dtype)\n",
        "    print(out_device2.shape)\n",
        "    add_ufunc(mul_device,out=out_device2)\n",
        "    a = out_device2.copy_to_host()\n",
        "    print(f\"Calculations from GPU {a}\")\n",
        "\n",
        "    cal_ufunc(x_device,out=out_device2)\n",
        "    x = out_device2.copy_to_host()\n",
        "     \n",
        "    cal_ufunc(y_device,out=out_device2)\n",
        "    y = out_device2.copy_to_host()\n",
        "\n",
        "    print(x) \n",
        "    print(y)\n",
        "    \n",
        "    d=dist_ufunc(x,y,a)\n",
        "    print(d)\n",
        "cuda_operation()"
      ],
      "execution_count": 20,
      "outputs": [
        {
          "output_type": "stream",
          "text": [
            "Moving calculations to GPU memory\n",
            "<numba.cuda.cudadrv.devicearray.DeviceNDArray object at 0x7f10d95aa4e0>\n",
            "(2000, 18)\n",
            "float32\n",
            "Calculating on GPU\n",
            "[[1.2351856e-06 4.0020013e-06 0.0000000e+00 ... 0.0000000e+00\n",
            "  1.3058741e-05 9.6440862e-04]\n",
            " [9.4251277e-07 1.5267148e-06 0.0000000e+00 ... 0.0000000e+00\n",
            "  1.4640249e-05 1.2013394e-04]\n",
            " [5.8506765e-07 3.8851608e-06 0.0000000e+00 ... 0.0000000e+00\n",
            "  9.1501563e-05 0.0000000e+00]\n",
            " ...\n",
            " [3.8167869e-07 4.4866720e-06 0.0000000e+00 ... 0.0000000e+00\n",
            "  3.2940559e-05 4.8053576e-04]\n",
            " [2.5969775e-06 9.8575529e-06 0.0000000e+00 ... 0.0000000e+00\n",
            "  8.1617130e-05 1.0715651e-04]\n",
            " [3.1243994e-07 1.6002812e-06 0.0000000e+00 ... 0.0000000e+00\n",
            "  3.2940559e-05 4.8053576e-04]]\n",
            "<numba.cuda.cudadrv.devicearray.DeviceNDArray object at 0x7f10d95b0f60>\n",
            "(2000, 18)\n",
            "float32\n",
            "(2000,)\n",
            "Calculations from GPU [1.97538853e-24 0.00000000e+00 0.00000000e+00 ... 2.84240564e-13\n",
            " 2.27910401e-23 0.00000000e+00]\n",
            "[1.97538853e-24 0.00000000e+00 0.00000000e+00 ... 2.84240564e-13\n",
            " 2.27910401e-23 0.00000000e+00]\n",
            "[1.97538853e-24 0.00000000e+00 0.00000000e+00 ... 2.84240564e-13\n",
            " 2.27910401e-23 0.00000000e+00]\n",
            "[1.97538853e-24 0.00000000e+00 0.00000000e+00 ... 2.84240564e-13\n",
            " 2.27910401e-23 0.00000000e+00]\n"
          ],
          "name": "stdout"
        }
      ]
    },
    {
      "cell_type": "code",
      "metadata": {
        "id": "bkY8tJOeCTYp"
      },
      "source": [
        ""
      ],
      "execution_count": 11,
      "outputs": []
    }
  ]
}